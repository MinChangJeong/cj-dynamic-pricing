{
 "cells": [
  {
   "cell_type": "code",
   "execution_count": 3,
   "metadata": {},
   "outputs": [
    {
     "name": "stdout",
     "output_type": "stream",
     "text": [
      "Done !!\n"
     ]
    }
   ],
   "source": [
    "%run \"./preprocessing.ipynb\""
   ]
  },
  {
   "cell_type": "code",
   "execution_count": null,
   "metadata": {},
   "outputs": [],
   "source": [
    "import warnings\n",
    "import tensorflow as tf\n",
    "from sklearn.preprocessing import MinMaxScaler\n",
    "from sklearn.metrics import mean_squared_error\n",
    "from tensorflow.keras.layers import Dense, Input, LSTM, Dropout\n",
    "from tensorflow.keras.models import Model, Sequential\n",
    "from tensorflow.keras.optimizers import Adam, SGD\n",
    "from sklearn.metrics import mean_absolute_error, mean_squared_error\n",
    "import pickle\n",
    "from sklearn.ensemble import RandomForestRegressor\n",
    "from sklearn.svm import SVR\n",
    "from sklearn.ensemble import AdaBoostRegressor\n",
    "from sklearn.tree import DecisionTreeRegressor\n",
    "\n",
    "tf.__version__\n",
    "warnings.filterwarnings(action='ignore')"
   ]
  },
  {
   "cell_type": "code",
   "execution_count": null,
   "metadata": {},
   "outputs": [],
   "source": [
    "e_commerce_fc_data.head(1)"
   ]
  },
  {
   "cell_type": "code",
   "execution_count": null,
   "metadata": {},
   "outputs": [],
   "source": [
    "np.random.seed(seed=42)    \n",
    "random_number = np.random.randint(0, len(e_commerce_fc_data), 150000)\n",
    "\n",
    "selected_data = e_commerce_fc_data.iloc[random_number, :][[\"datetime\", \"고객사코드\", \"distance\"]]"
   ]
  },
  {
   "cell_type": "code",
   "execution_count": null,
   "metadata": {},
   "outputs": [],
   "source": [
    "### 출고량 별 세분화 \n",
    "def set_fee(selected):\n",
    "    code_fee_ = {\n",
    "        100000 : 0,\n",
    "        50000 : 20,\n",
    "        30000 : 40,\n",
    "        20000 : 60,\n",
    "        10000 : 80,\n",
    "        5000 : 100,\n",
    "        3000 : 120,\n",
    "        2000 : 140,\n",
    "        1000 : 160,\n",
    "        500 : 180,\n",
    "        0 : 200\n",
    "    }\n",
    "\n",
    "    code_list = {\n",
    "        90001302 : 1,\n",
    "        90001542 : 1,\n",
    "        90001341 : 1,\n",
    "        90001541 : 1,\n",
    "        90001441 : 1,\n",
    "        90001602 : 1,\n",
    "        90001443 : 1,\n",
    "        90001582 : 81950,\n",
    "        90001622 : 68074,\n",
    "        90001521 : 58814,\n",
    "        90001682 : 36071,\n",
    "        90001702 : 30606,\n",
    "        90001776 : 24318,\n",
    "        90001705 : 23976,\n",
    "        90001704 : 20317,\n",
    "        90001768 : 12844,\n",
    "        90001662 : 8126,\n",
    "        90001683 : 5850,\n",
    "        90001381 : 5438,\n",
    "        90001703 : 2416,\n",
    "        90001664 : 1904,\n",
    "        90001502 : 133,\n",
    "        90001765 : 48,\n",
    "        90001842 : 44,\n",
    "        90001562 : 10,\n",
    "        90001774 : 7,\n",
    "        90001802 : 6\n",
    "    }\n",
    "\n",
    "    ### 거리별  세분화\n",
    "    distance_fee_ = {\n",
    "        400 : 500,\n",
    "        300 : 400,\n",
    "        100 : 300,\n",
    "        50 : 200,\n",
    "        0 : 0\n",
    "    }\n",
    "\n",
    "    ### 시간별 세분화\n",
    "    time_fee_ = {\n",
    "        400 : [1, 2, 11, 12, 13],\n",
    "        200 : [0, 3, 4, 10, 14],\n",
    "        100 : [5, 6, 7, 8, 9, 15, 23],\n",
    "        0 : [16, 17, 18, 19, 20, 21, 22]\n",
    "    }\n",
    "\n",
    "    str_target_code = []\n",
    "    make_code_fee_ = []\n",
    "    make_distance_fee_ = []\n",
    "    make_time_fee_ = []\n",
    "    make_fee_ = []\n",
    "    code_fee_key = list(code_fee_.keys())\n",
    "    distance_fee_key = list(distance_fee_.keys())\n",
    "    time_fee_key = list(time_fee_.keys())\n",
    "\n",
    "    for i in range(len(selected)):\n",
    "        target_code = selected[\"고객사코드\"][i]\n",
    "        target_distance = selected[\"distance\"][i]\n",
    "        target_day = selected[\"datetime\"][i]\n",
    "        str_target_code.append(str(target_code))\n",
    "\n",
    "        ## code fee_ \n",
    "        code_value = code_list[target_code]\n",
    "\n",
    "        if code_value == 1:\n",
    "            set_code_fee = 0\n",
    "            make_code_fee_.append(set_code_fee)\n",
    "        else:\n",
    "            for i in range(len(code_fee_key) -1 ):\n",
    "\n",
    "                if (code_fee_key[i] > code_value) and ( code_fee_key[i+1] <= code_value) :\n",
    "                    set_code_fee = code_fee_[code_fee_key[i+1]]\n",
    "                    set_code_fee = set_code_fee + (code_fee_[code_fee_key[i+1]] - code_fee_[code_fee_key[i]]) * ( (code_value - code_fee_key[i+1]) / (code_fee_key[i] - code_fee_key[i+1]) )\n",
    "\n",
    "                    if set_code_fee > 200:\n",
    "                        set_code_fee = 200\n",
    "                    make_code_fee_.append(int(set_code_fee))\n",
    "                else:\n",
    "                    pass\n",
    "\n",
    "        ## distance fee_\n",
    "        if target_distance >= distance_fee_key[0]:\n",
    "            set_distance_fee = 500\n",
    "            make_distance_fee_.append(set_distance_fee)\n",
    "        else:\n",
    "            for i in range(len(distance_fee_key) -1 ):\n",
    "                if (distance_fee_key[i] > target_distance) and ( distance_fee_key[i+1] <= target_distance):\n",
    "                    set_distance_fee = distance_fee_[distance_fee_key[i+1]]\n",
    "                    set_distance_fee = set_distance_fee + (distance_fee_[distance_fee_key[i+1]] - distance_fee_[distance_fee_key[i]]) * (( target_distance - distance_fee_key[i+1]) / ( distance_fee_key[i] - distance_fee_key[i+1]) )\n",
    "\n",
    "                    if set_distance_fee > 500:\n",
    "                        set_distance_fee = 200\n",
    "\n",
    "                    if set_distance_fee < 0:\n",
    "                        set_distance_fee = 0\n",
    "                    make_distance_fee_.append(int(set_distance_fee))\n",
    "                else:\n",
    "                    pass\n",
    "\n",
    "        ## day fee_\n",
    "\n",
    "        day_value = target_day.hour\n",
    "\n",
    "        for i in time_fee_key:\n",
    "            if day_value in time_fee_[i]:\n",
    "                set_day_fee = i\n",
    "                make_time_fee_.append(set_day_fee)            \n",
    "            else:\n",
    "                pass\n",
    "\n",
    "    for i in range(len(selected)):\n",
    "        make_fee_.append(\n",
    "            2100 \n",
    "            + make_code_fee_[i]\n",
    "            + make_distance_fee_[i]\n",
    "            + make_time_fee_[i]\n",
    "        )\n",
    "\n",
    "\n",
    "    selected[\"result\"] = make_fee_\n",
    "    selected[\"code\"] = make_code_fee_\n",
    "    selected[\"str_code\"] = str_target_code\n",
    "    return selected"
   ]
  },
  {
   "cell_type": "code",
   "execution_count": null,
   "metadata": {},
   "outputs": [],
   "source": [
    "set_fee_df = set_fee(selected_data)"
   ]
  },
  {
   "cell_type": "code",
   "execution_count": null,
   "metadata": {},
   "outputs": [],
   "source": [
    "set_fee_df"
   ]
  },
  {
   "cell_type": "code",
   "execution_count": null,
   "metadata": {},
   "outputs": [],
   "source": [
    "set_hour = []\n",
    "for i in range(len(set_fee_df)):\n",
    "\n",
    "    set_hour.append(set_fee_df[\"datetime\"][i].hour)\n",
    "\n",
    "set_fee_df[\"time\"] = set_hour"
   ]
  },
  {
   "cell_type": "code",
   "execution_count": null,
   "metadata": {},
   "outputs": [],
   "source": [
    "train_x = set_fee_df[[\"distance\", \"time\", \"str_code\"]].iloc[:120000, :]\n",
    "train_y = set_fee_df[[\"result\"]].iloc[:120000, :]\n",
    "\n",
    "test_x = set_fee_df[[\"distance\", \"time\", \"str_code\"]].iloc[120000:, :]\n",
    "test_y = set_fee_df[[\"result\"]].iloc[120000:, :]"
   ]
  },
  {
   "cell_type": "code",
   "execution_count": null,
   "metadata": {},
   "outputs": [],
   "source": [
    "svr = SVR()\n",
    "rfg = RandomForestRegressor()\n",
    "abr = AdaBoostRegressor()\n",
    "dtr = DecisionTreeRegressor()"
   ]
  },
  {
   "cell_type": "code",
   "execution_count": null,
   "metadata": {},
   "outputs": [],
   "source": [
    "svr.fit(train_x, train_y)\n",
    "svr_pred = svr.predict(test_x)\n",
    "print(\"mae : \", mean_absolute_error(svr_pred, test_y), \"mse : \", mean_squared_error(svr_pred, test_y))"
   ]
  },
  {
   "cell_type": "code",
   "execution_count": null,
   "metadata": {},
   "outputs": [],
   "source": [
    "rfg.fit(train_x, train_y)\n",
    "rfg_pred = rfg.predict(test_x)\n",
    "print(\"mae : \", mean_absolute_error(rfg_pred, test_y), \"mse : \", mean_squared_error(rfg_pred, test_y))"
   ]
  },
  {
   "cell_type": "code",
   "execution_count": null,
   "metadata": {},
   "outputs": [],
   "source": [
    "abr.fit(train_x, train_y)\n",
    "abr_pred = abr.predict(test_x)\n",
    "print(\"mae : \", mean_absolute_error(abr_pred, test_y), \"mse : \", mean_squared_error(abr_pred, test_y))"
   ]
  },
  {
   "cell_type": "code",
   "execution_count": null,
   "metadata": {},
   "outputs": [],
   "source": [
    "dtr.fit(train_x, train_y)\n",
    "dtr_pred = dtr.predict(test_x)\n",
    "print(\"mae : \", mean_absolute_error(dtr_pred, test_y), \"mse : \", mean_squared_error(dtr_pred, test_y))"
   ]
  },
  {
   "cell_type": "code",
   "execution_count": null,
   "metadata": {},
   "outputs": [],
   "source": [
    "batch_size = 100\n",
    "model = Sequential()\n",
    "model.add(Dense(units=64, activation=\"relu\", input_shape=(batch_size, 3, )))\n",
    "model.add(Dense(32))\n",
    "model.add(Dense(1))\n",
    "\n",
    "model.compile(loss=\"mean_squared_error\", optimizer=\"adam\")"
   ]
  },
  {
   "cell_type": "markdown",
   "metadata": {
    "scrolled": true
   },
   "source": [
    "model.fit(train_x, train_y, batch_size = batch_size, epochs=2000, verbose= 2)"
   ]
  },
  {
   "cell_type": "code",
   "execution_count": null,
   "metadata": {},
   "outputs": [],
   "source": [
    "pred = model.predict(test_x)"
   ]
  },
  {
   "cell_type": "code",
   "execution_count": null,
   "metadata": {},
   "outputs": [],
   "source": [
    "mean_absolute_error(pred, test_y), mean_squared_error(pred, test_y)"
   ]
  },
  {
   "cell_type": "code",
   "execution_count": null,
   "metadata": {},
   "outputs": [],
   "source": [
    "with open(\"./model/set_fee_mode.pickle\", \"wb\") as f:\n",
    "    pickle.dump(rfg, f, pickle.HIGHEST_PROTOCOL)\n",
    "    "
   ]
  },
  {
   "cell_type": "markdown",
   "metadata": {},
   "source": [
    "import time\n",
    "\n",
    "a = 10\n",
    "while True:\n",
    "    time.sleep(10)\n",
    "\n",
    "    print(a)\n",
    "    a= a + 1"
   ]
  },
  {
   "cell_type": "code",
   "execution_count": null,
   "metadata": {},
   "outputs": [],
   "source": []
  }
 ],
 "metadata": {
  "kernelspec": {
   "display_name": "Python 3",
   "language": "python",
   "name": "python3"
  },
  "language_info": {
   "codemirror_mode": {
    "name": "ipython",
    "version": 3
   },
   "file_extension": ".py",
   "mimetype": "text/x-python",
   "name": "python",
   "nbconvert_exporter": "python",
   "pygments_lexer": "ipython3",
   "version": "3.8.5"
  }
 },
 "nbformat": 4,
 "nbformat_minor": 4
}
